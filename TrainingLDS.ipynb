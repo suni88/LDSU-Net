{
 "cells": [
  {
   "cell_type": "markdown",
   "id": "a6f7cc31",
   "metadata": {},
   "source": [
    "# Training LDS U-Net\n",
    "\n",
    "To train the LDS U-Net model the first step is import the functions needed."
   ]
  },
  {
   "cell_type": "code",
   "execution_count": 1,
   "id": "93c8e030",
   "metadata": {},
   "outputs": [],
   "source": [
    "from model import *\n",
    "from data import *"
   ]
  },
  {
   "cell_type": "markdown",
   "id": "f7d4ea5b",
   "metadata": {},
   "source": [
    "Loading the ultrasound images is possible by using the data generator function"
   ]
  },
  {
   "cell_type": "code",
   "execution_count": null,
   "id": "ed44c58c",
   "metadata": {},
   "outputs": [],
   "source": [
    "data_gen_args = dict(rotation_range=0.2,\n",
    "                    width_shift_range=0.05,\n",
    "                    height_shift_range=0.05,\n",
    "                    shear_range=0.05,\n",
    "                    zoom_range=0.05,\n",
    "                    horizontal_flip=True,\n",
    "                    fill_mode='nearest')\n",
    "myGene = trainGenerator(2,'data/train','image','mask',data_gen_args,save_to_dir = None)\n",
    "model = udnet()\n",
    "model_checkpoint = ModelCheckpoint('LDSU-Net.hdf5', monitor='loss',verbose=1, save_best_only=True)\n",
    "model.fit(myGene,steps_per_epoch=200,epochs=10,callbacks=[model_checkpoint])"
   ]
  },
  {
   "cell_type": "markdown",
   "id": "ab898b74",
   "metadata": {},
   "source": [
    "## Testing the model\n",
    "\n",
    "Once the model is trained, we can test it with the testing dataset"
   ]
  },
  {
   "cell_type": "code",
   "execution_count": null,
   "id": "802df263",
   "metadata": {},
   "outputs": [],
   "source": [
    "testGene = testGenerator(\"data/test\")\n",
    "model = udnet()\n",
    "model.load_weights(\"LDSU-Net.hdf5\")\n",
    "results = model.predict(testGene,2,verbose=1)\n",
    "saveResult(\"data/test\",results)"
   ]
  }
 ],
 "metadata": {
  "kernelspec": {
   "display_name": "Python 3 (ipykernel)",
   "language": "python",
   "name": "python3"
  },
  "language_info": {
   "codemirror_mode": {
    "name": "ipython",
    "version": 3
   },
   "file_extension": ".py",
   "mimetype": "text/x-python",
   "name": "python",
   "nbconvert_exporter": "python",
   "pygments_lexer": "ipython3",
   "version": "3.9.12"
  }
 },
 "nbformat": 4,
 "nbformat_minor": 5
}
